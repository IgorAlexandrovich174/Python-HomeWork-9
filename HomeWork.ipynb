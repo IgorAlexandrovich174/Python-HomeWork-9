{
  "nbformat": 4,
  "nbformat_minor": 0,
  "metadata": {
    "colab": {
      "provenance": []
    },
    "kernelspec": {
      "name": "python3",
      "display_name": "Python 3"
    },
    "language_info": {
      "name": "python"
    }
  },
  "cells": [
    {
      "cell_type": "code",
      "execution_count": 4,
      "metadata": {
        "id": "Wji0UoNzlm75"
      },
      "outputs": [],
      "source": [
        "import pandas as pd"
      ]
    },
    {
      "cell_type": "code",
      "source": [
        "f = pd.read_csv('sample_data/california_housing_test.csv')"
      ],
      "metadata": {
        "id": "IseT_o9zl6Ri"
      },
      "execution_count": 5,
      "outputs": []
    },
    {
      "cell_type": "markdown",
      "source": [
        "Задача № 40 "
      ],
      "metadata": {
        "id": "ThoQTyrX2xR0"
      }
    },
    {
      "cell_type": "markdown",
      "source": [
        "Работать с файлом california_housing_train.csv, который находится в папке\n",
        "sample_data. Определить среднюю стоимость дома, где кол-во людей от 0 до 500 (population)"
      ],
      "metadata": {
        "id": "q66fUemL3Ug4"
      }
    },
    {
      "cell_type": "code",
      "source": [
        "f[f['population'] <= 500]['median_house_value'].median()"
      ],
      "metadata": {
        "colab": {
          "base_uri": "https://localhost:8080/"
        },
        "id": "eRelNS-G22Q7",
        "outputId": "63ac2723-829e-4c6f-e066-c275e4fb06bc"
      },
      "execution_count": 8,
      "outputs": [
        {
          "output_type": "execute_result",
          "data": {
            "text/plain": [
              "156300.0"
            ]
          },
          "metadata": {},
          "execution_count": 8
        }
      ]
    },
    {
      "cell_type": "markdown",
      "source": [
        "Задача № 42"
      ],
      "metadata": {
        "id": "MK1HOqV_3dVg"
      }
    },
    {
      "cell_type": "markdown",
      "source": [
        "Узнать какая максимальная households в зоне минимального значения population"
      ],
      "metadata": {
        "id": "xq_yno9J3gMo"
      }
    },
    {
      "cell_type": "code",
      "source": [
        "f[f['population'] == f['population'].min()]['households'].max()\n"
      ],
      "metadata": {
        "colab": {
          "base_uri": "https://localhost:8080/"
        },
        "id": "jD_ZQJwZ3lzn",
        "outputId": "ea0226e9-0d09-441c-fed5-f8516afdd55b"
      },
      "execution_count": 10,
      "outputs": [
        {
          "output_type": "execute_result",
          "data": {
            "text/plain": [
              "3.0"
            ]
          },
          "metadata": {},
          "execution_count": 10
        }
      ]
    }
  ]
}